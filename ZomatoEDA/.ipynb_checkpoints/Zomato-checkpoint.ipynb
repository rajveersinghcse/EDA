{
 "cells": [
  {
   "cell_type": "markdown",
   "id": "f5eb47e9",
   "metadata": {},
   "source": [
    "# Importing Libraries"
   ]
  },
  {
   "cell_type": "code",
   "execution_count": null,
   "id": "51739607",
   "metadata": {},
   "outputs": [],
   "source": [
    "import numpy as np\n",
    "import pandas as pd\n",
    "import matplotlib.pyplot as plt\n",
    "import seaborn as sns\n",
    "%matplotlib inline"
   ]
  },
  {
   "cell_type": "code",
   "execution_count": null,
   "id": "7103a1ae",
   "metadata": {},
   "outputs": [],
   "source": [
    "df = pd.read_csv('zomato.csv',encoding='latin-1')"
   ]
  },
  {
   "cell_type": "code",
   "execution_count": null,
   "id": "6963cae0",
   "metadata": {},
   "outputs": [],
   "source": [
    "df.head()"
   ]
  },
  {
   "cell_type": "code",
   "execution_count": null,
   "id": "2e1ab94f",
   "metadata": {},
   "outputs": [],
   "source": [
    "df.columns"
   ]
  },
  {
   "cell_type": "code",
   "execution_count": null,
   "id": "32f0e2f7",
   "metadata": {},
   "outputs": [],
   "source": [
    "df.describe()"
   ]
  },
  {
   "cell_type": "code",
   "execution_count": null,
   "id": "da77338d",
   "metadata": {},
   "outputs": [],
   "source": [
    "df.info()"
   ]
  },
  {
   "cell_type": "code",
   "execution_count": null,
   "id": "8de6b5b8",
   "metadata": {},
   "outputs": [],
   "source": [
    "df.isnull().sum()"
   ]
  },
  {
   "cell_type": "code",
   "execution_count": null,
   "id": "a838fd7c",
   "metadata": {},
   "outputs": [],
   "source": [
    "# we have anoter method to find the null values columns\n",
    "[features for features in df.columns if df[features].isnull().sum()>0]"
   ]
  },
  {
   "cell_type": "code",
   "execution_count": null,
   "id": "0c925dc2",
   "metadata": {},
   "outputs": [],
   "source": [
    "sns.heatmap(df.isnull(),yticklabels=False,cbar=False,cmap='viridis')"
   ]
  },
  {
   "cell_type": "code",
   "execution_count": null,
   "id": "f9c51704",
   "metadata": {},
   "outputs": [],
   "source": [
    "df_country = pd.read_excel('Country-Code.xlsx')\n",
    "df_country.head()"
   ]
  },
  {
   "cell_type": "code",
   "execution_count": null,
   "id": "9c109d35",
   "metadata": {},
   "outputs": [],
   "source": [
    "#merging two data on the behalf on country code\n",
    "new_df=pd.merge(df,df_country,on='Country Code',how='left')\n",
    "new_df.head()"
   ]
  },
  {
   "cell_type": "code",
   "execution_count": null,
   "id": "6d1dfff3",
   "metadata": {},
   "outputs": [],
   "source": [
    "new_df.info()"
   ]
  },
  {
   "cell_type": "code",
   "execution_count": null,
   "id": "39cd67ae",
   "metadata": {},
   "outputs": [],
   "source": [
    "new_df['Country'].value_counts()"
   ]
  },
  {
   "cell_type": "code",
   "execution_count": null,
   "id": "9e2788ce",
   "metadata": {},
   "outputs": [],
   "source": [
    "country_name = new_df['Country'].value_counts().index"
   ]
  },
  {
   "cell_type": "code",
   "execution_count": null,
   "id": "e681f841",
   "metadata": {},
   "outputs": [],
   "source": [
    "country_value = new_df['Country'].value_counts().values"
   ]
  },
  {
   "cell_type": "code",
   "execution_count": null,
   "id": "b2984f59",
   "metadata": {},
   "outputs": [],
   "source": [
    "#top 3 countries\n",
    "plt.pie(country_value[:3],labels=country_name[:3],autopct='%1.2f%%')\n",
    "plt.show()"
   ]
  },
  {
   "cell_type": "markdown",
   "id": "0404c944",
   "metadata": {},
   "source": [
    "#### Observation: most of the records are coming from india"
   ]
  },
  {
   "cell_type": "code",
   "execution_count": null,
   "id": "469d9704",
   "metadata": {},
   "outputs": [],
   "source": [
    "new_df.columns"
   ]
  },
  {
   "cell_type": "code",
   "execution_count": null,
   "id": "546ffbe8",
   "metadata": {},
   "outputs": [],
   "source": [
    "ratings = new_df.groupby(['Aggregate rating','Rating color','Rating text']).size().reset_index().rename(columns={0:'Ratting count'})"
   ]
  },
  {
   "cell_type": "code",
   "execution_count": null,
   "id": "74c3f686",
   "metadata": {},
   "outputs": [],
   "source": [
    "ratings"
   ]
  },
  {
   "cell_type": "code",
   "execution_count": null,
   "id": "0552fed8",
   "metadata": {},
   "outputs": [],
   "source": [
    "# Observation: \n",
    "#Most of the people does't gave any rating\n",
    "#when the rating is between 1.0 to 2.4 ---> Poor\n",
    "# when the rating is between 2.5 to 3.4 ---> Average\n",
    "# when the rating is between 3.5 to 3.9 ---> Good\n",
    "# when the rating is between 4.0 to 4.4 ---> Very Good\n",
    "# when the rating is between 4.5 to 4.9 ---> Excellent"
   ]
  },
  {
   "cell_type": "code",
   "execution_count": null,
   "id": "1ac1ff0f",
   "metadata": {},
   "outputs": [],
   "source": [
    "import matplotlib\n",
    "matplotlib.rcParams['figure.figsize']=(12,6)\n",
    "sns.barplot(x=\"Aggregate rating\",y=\"Ratting count\",data=ratings)\n",
    "plt.show()"
   ]
  },
  {
   "cell_type": "code",
   "execution_count": null,
   "id": "abc2f866",
   "metadata": {},
   "outputs": [],
   "source": [
    "sns.barplot(x=\"Aggregate rating\",y=\"Ratting count\",hue='Rating color', palette=['blue','red','orange','yellow','green','green'], data=ratings)"
   ]
  },
  {
   "cell_type": "code",
   "execution_count": null,
   "id": "e2941ed0",
   "metadata": {},
   "outputs": [],
   "source": [
    "# Observation:\n",
    "# Not rated count is very high\n",
    "# most of the ratings lie between 2.5 to 3.9"
   ]
  },
  {
   "cell_type": "code",
   "execution_count": null,
   "id": "e9680420",
   "metadata": {},
   "outputs": [],
   "source": [
    "#count plot\n",
    "sns.countplot(x=\"Rating color\",data=ratings,palette=['blue','red','orange','yellow','green','green'])"
   ]
  },
  {
   "cell_type": "code",
   "execution_count": null,
   "id": "a2e4f8bd",
   "metadata": {},
   "outputs": [],
   "source": [
    "new_df[new_df['Aggregate rating']==0].groupby('Country').size().reset_index()"
   ]
  },
  {
   "cell_type": "code",
   "execution_count": null,
   "id": "6a98520e",
   "metadata": {},
   "outputs": [],
   "source": [
    "# Observations: Maximum number of 0 rating from the india"
   ]
  },
  {
   "cell_type": "code",
   "execution_count": null,
   "id": "9d7a96a3",
   "metadata": {},
   "outputs": [],
   "source": [
    "#find out which currency is used by which country\n",
    "df['Currency'].groupby(new_df['Country'])"
   ]
  },
  {
   "cell_type": "code",
   "execution_count": null,
   "id": "18d42232",
   "metadata": {},
   "outputs": [],
   "source": [
    "new_df.columns"
   ]
  },
  {
   "cell_type": "code",
   "execution_count": null,
   "id": "403ae325",
   "metadata": {},
   "outputs": [],
   "source": [
    "new_df"
   ]
  },
  {
   "cell_type": "code",
   "execution_count": null,
   "id": "6abf1e55",
   "metadata": {},
   "outputs": [],
   "source": [
    "pip install jupyter_contrib_nbextensions && jupyter contrib nbextension install"
   ]
  },
  {
   "cell_type": "code",
   "execution_count": null,
   "id": "e633c06c",
   "metadata": {},
   "outputs": [],
   "source": []
  }
 ],
 "metadata": {
  "kernelspec": {
   "display_name": "Python 3 (ipykernel)",
   "language": "python",
   "name": "python3"
  },
  "language_info": {
   "codemirror_mode": {
    "name": "ipython",
    "version": 3
   },
   "file_extension": ".py",
   "mimetype": "text/x-python",
   "name": "python",
   "nbconvert_exporter": "python",
   "pygments_lexer": "ipython3",
   "version": "3.9.13"
  },
  "vscode": {
   "interpreter": {
    "hash": "5238573367df39f7286bb46f9ff5f08f63a01a80960060ce41e3c79b190280fa"
   }
  }
 },
 "nbformat": 4,
 "nbformat_minor": 5
}
